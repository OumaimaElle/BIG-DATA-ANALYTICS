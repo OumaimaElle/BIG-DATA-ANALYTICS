{
  "cells": [
    {
      "cell_type": "code",
      "execution_count": 1,
      "id": "cc9eb8ed",
      "metadata": {
        "colab": {
          "base_uri": "https://localhost:8080/"
        },
        "id": "cc9eb8ed",
        "outputId": "49376050-221b-4045-e0f6-01a9642c3e8b"
      },
      "outputs": [
        {
          "output_type": "stream",
          "name": "stdout",
          "text": [
            "Requirement already satisfied: pyspark in /usr/local/lib/python3.10/dist-packages (3.5.0)\n",
            "Requirement already satisfied: py4j==0.10.9.7 in /usr/local/lib/python3.10/dist-packages (from pyspark) (0.10.9.7)\n"
          ]
        }
      ],
      "source": [
        "!pip install pyspark\n",
        "from pyspark import SparkContext"
      ]
    },
    {
      "cell_type": "code",
      "execution_count": 2,
      "id": "58afe80a",
      "metadata": {
        "id": "58afe80a"
      },
      "outputs": [],
      "source": [
        "sc = SparkContext(master=\"local[2]\")"
      ]
    },
    {
      "cell_type": "code",
      "execution_count": 3,
      "id": "30cee8ca",
      "metadata": {
        "colab": {
          "base_uri": "https://localhost:8080/",
          "height": 196
        },
        "id": "30cee8ca",
        "outputId": "74bd2f53-00a1-4233-e6a0-47cabddb15f5"
      },
      "outputs": [
        {
          "output_type": "execute_result",
          "data": {
            "text/plain": [
              "<SparkContext master=local[2] appName=pyspark-shell>"
            ],
            "text/html": [
              "\n",
              "        <div>\n",
              "            <p><b>SparkContext</b></p>\n",
              "\n",
              "            <p><a href=\"http://026025910df3:4040\">Spark UI</a></p>\n",
              "\n",
              "            <dl>\n",
              "              <dt>Version</dt>\n",
              "                <dd><code>v3.5.0</code></dd>\n",
              "              <dt>Master</dt>\n",
              "                <dd><code>local[2]</code></dd>\n",
              "              <dt>AppName</dt>\n",
              "                <dd><code>pyspark-shell</code></dd>\n",
              "            </dl>\n",
              "        </div>\n",
              "        "
            ]
          },
          "metadata": {},
          "execution_count": 3
        }
      ],
      "source": [
        "sc"
      ]
    },
    {
      "cell_type": "code",
      "execution_count": 4,
      "id": "92390479",
      "metadata": {
        "id": "92390479"
      },
      "outputs": [],
      "source": [
        "from pyspark.sql import SparkSession"
      ]
    },
    {
      "cell_type": "code",
      "execution_count": 5,
      "id": "6dec1c7e",
      "metadata": {
        "id": "6dec1c7e"
      },
      "outputs": [],
      "source": [
        "spark = SparkSession.builder.appName(\"TextClassifierwithPySpark\").getOrCreate()"
      ]
    },
    {
      "cell_type": "code",
      "execution_count": 6,
      "id": "11c7c3c9",
      "metadata": {
        "id": "11c7c3c9"
      },
      "outputs": [],
      "source": [
        "df = spark.read.csv(\"/content/udemy_courses_clean.csv\",header=True,inferSchema=True)"
      ]
    },
    {
      "cell_type": "code",
      "execution_count": 7,
      "id": "9b3facd5",
      "metadata": {
        "colab": {
          "base_uri": "https://localhost:8080/"
        },
        "id": "9b3facd5",
        "outputId": "d93598ec-c98e-4f46-b5ca-f4365e778a70"
      },
      "outputs": [
        {
          "output_type": "stream",
          "name": "stdout",
          "text": [
            "+---+---------+--------------------+--------------------+-------+-----+---------------+-----------+------------+------------------+----------------+--------------------+----------------+--------------------+\n",
            "|_c0|course_id|        course_title|                 url|is_paid|price|num_subscribers|num_reviews|num_lectures|             level|content_duration| published_timestamp|         subject|  clean_course_title|\n",
            "+---+---------+--------------------+--------------------+-------+-----+---------------+-----------+------------+------------------+----------------+--------------------+----------------+--------------------+\n",
            "|  0|  1070968|Ultimate Investme...|https://www.udemy...|   True|  200|           2147|         23|          51|        All Levels|       1.5 hours|2017-01-18T20:58:58Z|Business Finance|Ultimate Investme...|\n",
            "|  1|  1113822|Complete GST Cour...|https://www.udemy...|   True|   75|           2792|        923|         274|        All Levels|        39 hours|2017-03-09T16:34:20Z|Business Finance|Complete GST Cour...|\n",
            "|  2|  1006314|Financial Modelin...|https://www.udemy...|   True|   45|           2174|         74|          51|Intermediate Level|       2.5 hours|2016-12-19T19:26:30Z|Business Finance|Financial Modelin...|\n",
            "|  3|  1210588|Beginner to Pro -...|https://www.udemy...|   True|   95|           2451|         11|          36|        All Levels|         3 hours|2017-05-30T20:07:24Z|Business Finance|Beginner Pro  Fin...|\n",
            "|  4|  1011058|How To Maximize Y...|https://www.udemy...|   True|  200|           1276|         45|          26|Intermediate Level|         2 hours|2016-12-13T14:57:18Z|Business Finance|Maximize Profits ...|\n",
            "|  5|   192870|Trading Penny Sto...|https://www.udemy...|   True|  150|           9221|        138|          25|        All Levels|         3 hours|2014-05-02T15:13:30Z|Business Finance|Trading Penny Sto...|\n",
            "|  6|   739964|Investing And Tra...|https://www.udemy...|   True|   65|           1540|        178|          26|    Beginner Level|          1 hour|2016-02-21T18:23:12Z|Business Finance|Investing Trading...|\n",
            "|  7|   403100|Trading Stock Cha...|https://www.udemy...|   True|   95|           2917|        148|          23|        All Levels|       2.5 hours|2015-01-30T22:13:03Z|Business Finance|Trading Stock Cha...|\n",
            "|  8|   476268|Options Trading 3...|https://www.udemy...|   True|  195|           5172|         34|          38|      Expert Level|       2.5 hours|2015-05-28T00:14:03Z|Business Finance|Options Trading 3...|\n",
            "|  9|  1167710|The Only Investme...|https://www.udemy...|   True|  200|            827|         14|          15|        All Levels|          1 hour|2017-04-18T18:13:32Z|Business Finance|Investment Strate...|\n",
            "| 10|   592338|Forex Trading Sec...|https://www.udemy...|   True|  200|           4284|         93|          76|        All Levels|         5 hours|2015-09-11T16:47:02Z|Business Finance|Forex Trading Sec...|\n",
            "| 11|   975046|Trading Options W...|https://www.udemy...|   True|  200|           1380|         42|          17|        All Levels|          1 hour|2016-10-18T22:52:31Z|Business Finance|Trading Options M...|\n",
            "| 12|   742602|Financial Managem...|https://www.udemy...|   True|   30|           3607|         21|          19|        All Levels|       1.5 hours|2016-02-03T18:04:01Z|Business Finance|Financial Managem...|\n",
            "| 13|   794151|Forex Trading Cou...|https://www.udemy...|   True|  195|           4061|         52|          16|        All Levels|         2 hours|2016-03-16T15:40:19Z|Business Finance|Forex Trading Cou...|\n",
            "| 14|  1196544|Python Algo Tradi...|https://www.udemy...|   True|  200|            294|         19|          42|        All Levels|         7 hours|2017-04-28T16:41:44Z|Business Finance|Python Algo Tradi...|\n",
            "| 15|   504036|Short Selling: Le...|https://www.udemy...|   True|   75|           2276|        106|          19|Intermediate Level|       1.5 hours|2015-06-22T21:18:35Z|Business Finance|Short Selling Lea...|\n",
            "| 16|   719698|Basic Technical A...|https://www.udemy...|   True|   20|           4919|         79|          16|    Beginner Level|       1.5 hours|2016-01-08T17:21:26Z|Business Finance|Basic Technical A...|\n",
            "| 17|   564966|The Complete Char...|https://www.udemy...|   True|  200|           2666|        115|          52|        All Levels|         4 hours|2015-08-10T21:07:35Z|Business Finance|Complete Chart Pa...|\n",
            "| 18|   606928|7 Deadly Mistakes...|https://www.udemy...|   True|   50|           5354|         24|          23|        All Levels|       1.5 hours|2015-09-21T18:10:34Z|Business Finance|7 Deadly Mistakes...|\n",
            "| 19|    58977|Financial Stateme...|https://www.udemy...|   True|   95|           8095|        249|          12|    Beginner Level|         35 mins|2013-06-09T00:21:26Z|Business Finance|Financial Stateme...|\n",
            "+---+---------+--------------------+--------------------+-------+-----+---------------+-----------+------------+------------------+----------------+--------------------+----------------+--------------------+\n",
            "only showing top 20 rows\n",
            "\n"
          ]
        }
      ],
      "source": [
        "df.show()"
      ]
    },
    {
      "cell_type": "code",
      "execution_count": 8,
      "id": "3c44f731",
      "metadata": {
        "colab": {
          "base_uri": "https://localhost:8080/"
        },
        "id": "3c44f731",
        "outputId": "d7d78e5c-0e4c-4624-b5f2-4018f630548c"
      },
      "outputs": [
        {
          "output_type": "execute_result",
          "data": {
            "text/plain": [
              "['_c0',\n",
              " 'course_id',\n",
              " 'course_title',\n",
              " 'url',\n",
              " 'is_paid',\n",
              " 'price',\n",
              " 'num_subscribers',\n",
              " 'num_reviews',\n",
              " 'num_lectures',\n",
              " 'level',\n",
              " 'content_duration',\n",
              " 'published_timestamp',\n",
              " 'subject',\n",
              " 'clean_course_title']"
            ]
          },
          "metadata": {},
          "execution_count": 8
        }
      ],
      "source": [
        "df.columns"
      ]
    },
    {
      "cell_type": "code",
      "execution_count": 9,
      "id": "a6c124c8",
      "metadata": {
        "id": "a6c124c8",
        "outputId": "6e8e6f4f-a0e5-41b1-e9a5-9a6686b2130f",
        "colab": {
          "base_uri": "https://localhost:8080/"
        }
      },
      "outputs": [
        {
          "output_type": "stream",
          "name": "stdout",
          "text": [
            "+--------------------+----------------+\n",
            "|        course_title|         subject|\n",
            "+--------------------+----------------+\n",
            "|Ultimate Investme...|Business Finance|\n",
            "|Complete GST Cour...|Business Finance|\n",
            "|Financial Modelin...|Business Finance|\n",
            "|Beginner to Pro -...|Business Finance|\n",
            "|How To Maximize Y...|Business Finance|\n",
            "|Trading Penny Sto...|Business Finance|\n",
            "|Investing And Tra...|Business Finance|\n",
            "|Trading Stock Cha...|Business Finance|\n",
            "|Options Trading 3...|Business Finance|\n",
            "|The Only Investme...|Business Finance|\n",
            "|Forex Trading Sec...|Business Finance|\n",
            "|Trading Options W...|Business Finance|\n",
            "|Financial Managem...|Business Finance|\n",
            "|Forex Trading Cou...|Business Finance|\n",
            "|Python Algo Tradi...|Business Finance|\n",
            "|Short Selling: Le...|Business Finance|\n",
            "|Basic Technical A...|Business Finance|\n",
            "|The Complete Char...|Business Finance|\n",
            "|7 Deadly Mistakes...|Business Finance|\n",
            "|Financial Stateme...|Business Finance|\n",
            "+--------------------+----------------+\n",
            "only showing top 20 rows\n",
            "\n"
          ]
        }
      ],
      "source": [
        "df.select('course_title','subject').show()"
      ]
    },
    {
      "cell_type": "code",
      "execution_count": 10,
      "id": "580c5464",
      "metadata": {
        "id": "580c5464"
      },
      "outputs": [],
      "source": [
        "df = df.select('course_title','subject')"
      ]
    },
    {
      "cell_type": "code",
      "execution_count": 11,
      "id": "cb42705d",
      "metadata": {
        "colab": {
          "base_uri": "https://localhost:8080/"
        },
        "id": "cb42705d",
        "outputId": "ab177333-49fa-40b4-ea1e-d66bb8a70556"
      },
      "outputs": [
        {
          "output_type": "stream",
          "name": "stdout",
          "text": [
            "+--------------------+----------------+\n",
            "|        course_title|         subject|\n",
            "+--------------------+----------------+\n",
            "|Ultimate Investme...|Business Finance|\n",
            "|Complete GST Cour...|Business Finance|\n",
            "|Financial Modelin...|Business Finance|\n",
            "|Beginner to Pro -...|Business Finance|\n",
            "|How To Maximize Y...|Business Finance|\n",
            "+--------------------+----------------+\n",
            "only showing top 5 rows\n",
            "\n"
          ]
        }
      ],
      "source": [
        "df.show(5)"
      ]
    },
    {
      "cell_type": "code",
      "execution_count": 12,
      "id": "efa667bd",
      "metadata": {
        "colab": {
          "base_uri": "https://localhost:8080/"
        },
        "id": "efa667bd",
        "outputId": "a373a6c0-01ee-4244-eca9-056fcb45b36b"
      },
      "outputs": [
        {
          "output_type": "stream",
          "name": "stdout",
          "text": [
            "+--------------------+-----+\n",
            "|             subject|count|\n",
            "+--------------------+-----+\n",
            "|play Electric Gui...|    1|\n",
            "|Multiply returns ...|    1|\n",
            "|                NULL|    6|\n",
            "|    Business Finance| 1198|\n",
            "|Introduction Guit...|    1|\n",
            "|Learn Play Fernan...|    1|\n",
            "|      Graphic Design|  603|\n",
            "|Aprende tocar el ...|    1|\n",
            "|     Web Development| 1200|\n",
            "|Learn Classical G...|    1|\n",
            "| Musical Instruments|  676|\n",
            "+--------------------+-----+\n",
            "\n"
          ]
        }
      ],
      "source": [
        "df.groupBy('subject').count().show()"
      ]
    },
    {
      "cell_type": "code",
      "execution_count": 13,
      "id": "8bacf56d",
      "metadata": {
        "colab": {
          "base_uri": "https://localhost:8080/"
        },
        "id": "8bacf56d",
        "outputId": "076c67e5-d51c-47e7-c0b3-59a07a01f563"
      },
      "outputs": [
        {
          "output_type": "execute_result",
          "data": {
            "text/plain": [
              "Web Development                                                                                                                                                                                              1200\n",
              "Business Finance                                                                                                                                                                                             1198\n",
              "Musical Instruments                                                                                                                                                                                           676\n",
              "Graphic Design                                                                                                                                                                                                603\n",
              "Multiply returns Value Investinghttpswwwudemycommultiplyyourreturnsusingvalueinvestingtrue2019421963All Levels45 hours20150723T000833Z 874284Weekly Forex Analysis Baraq FX                                     1\n",
              "Learn Play Fernando Sors Study B minorhttpswwwudemycomstudyinbminortrue115140359Intermediate Level43 mins20140127T205816Z 398746Piano Chord Based System  Learn Play Pros Do                                    1\n",
              "play Electric Guitarhttpswwwudemycomelectricguitarbeginnersmethodtrue501105520Beginner Level2 hours20161229T002406Z 42038Learn Piano Today Play Piano Course Quick Lessons                                      1\n",
              "Learn Classical Guitar Technique play Spanish Romancehttpswwwudemycomguitartechniquestrue19513164643All Levels5 hours20131118T175959Z 265888Learn Guitar Worship Learn 4 Songs unlock 1                         1\n",
              "Introduction Guitar A Course Beginnershttpswwwudemycomintroductiontoguitartrue251631156Beginner Level25 hours20141030T155939Z 650804Guitar Master Class Learning Play Guitar Z                                  1\n",
              "Aprende tocar el Acorden de odo con tcnicahttpswwwudemycomaprendeatocarelacordeondeoidoycontecnicatrue25932134Beginner Level4 hours20140916T195145Z 263432Aprende los Secretos de la Armnica con HARPSOUL       1\n",
              "Name: subject, dtype: int64"
            ]
          },
          "metadata": {},
          "execution_count": 13
        }
      ],
      "source": [
        "df.toPandas()['subject'].value_counts()"
      ]
    },
    {
      "cell_type": "code",
      "execution_count": 14,
      "id": "f51bb089",
      "metadata": {
        "colab": {
          "base_uri": "https://localhost:8080/"
        },
        "id": "f51bb089",
        "outputId": "72185414-9151-4b2c-84ea-283f9c2d8825"
      },
      "outputs": [
        {
          "output_type": "execute_result",
          "data": {
            "text/plain": [
              "6"
            ]
          },
          "metadata": {},
          "execution_count": 14
        }
      ],
      "source": [
        "df.toPandas()['subject'].isnull().sum()"
      ]
    },
    {
      "cell_type": "code",
      "execution_count": 15,
      "id": "f1be6312",
      "metadata": {
        "id": "f1be6312"
      },
      "outputs": [],
      "source": [
        "df = df.dropna(subset=('subject'))"
      ]
    },
    {
      "cell_type": "code",
      "execution_count": 16,
      "id": "8fb9cfc5",
      "metadata": {
        "colab": {
          "base_uri": "https://localhost:8080/"
        },
        "id": "8fb9cfc5",
        "outputId": "3d1c3dd9-0738-42af-cfef-893ba509bd8b"
      },
      "outputs": [
        {
          "output_type": "execute_result",
          "data": {
            "text/plain": [
              "0"
            ]
          },
          "metadata": {},
          "execution_count": 16
        }
      ],
      "source": [
        "df.toPandas()['subject'].isnull().sum()"
      ]
    },
    {
      "cell_type": "code",
      "execution_count": 17,
      "id": "7a037edd",
      "metadata": {
        "colab": {
          "base_uri": "https://localhost:8080/"
        },
        "id": "7a037edd",
        "outputId": "42fcef6c-5f71-40ee-cfb1-304774c50c9f"
      },
      "outputs": [
        {
          "output_type": "stream",
          "name": "stdout",
          "text": [
            "+--------------------+----------------+\n",
            "|        course_title|         subject|\n",
            "+--------------------+----------------+\n",
            "|Ultimate Investme...|Business Finance|\n",
            "|Complete GST Cour...|Business Finance|\n",
            "|Financial Modelin...|Business Finance|\n",
            "|Beginner to Pro -...|Business Finance|\n",
            "|How To Maximize Y...|Business Finance|\n",
            "+--------------------+----------------+\n",
            "only showing top 5 rows\n",
            "\n"
          ]
        }
      ],
      "source": [
        "df.show(5)"
      ]
    },
    {
      "cell_type": "code",
      "execution_count": 18,
      "id": "4388525c",
      "metadata": {
        "id": "4388525c"
      },
      "outputs": [],
      "source": [
        "import pyspark.ml.feature"
      ]
    },
    {
      "cell_type": "code",
      "execution_count": 19,
      "id": "d1cc5b80",
      "metadata": {
        "colab": {
          "base_uri": "https://localhost:8080/"
        },
        "id": "d1cc5b80",
        "outputId": "e2970411-9821-4317-bdd5-2ae74033266c"
      },
      "outputs": [
        {
          "output_type": "execute_result",
          "data": {
            "text/plain": [
              "['Any',\n",
              " 'Binarizer',\n",
              " 'BucketedRandomProjectionLSH',\n",
              " 'BucketedRandomProjectionLSHModel',\n",
              " 'Bucketizer',\n",
              " 'ChiSqSelector',\n",
              " 'ChiSqSelectorModel',\n",
              " 'CountVectorizer',\n",
              " 'CountVectorizerModel',\n",
              " 'DCT',\n",
              " 'DataFrame',\n",
              " 'DenseMatrix',\n",
              " 'DenseVector',\n",
              " 'Dict',\n",
              " 'ElementwiseProduct',\n",
              " 'FeatureHasher',\n",
              " 'Generic',\n",
              " 'HasFeaturesCol',\n",
              " 'HasHandleInvalid',\n",
              " 'HasInputCol',\n",
              " 'HasInputCols',\n",
              " 'HasLabelCol',\n",
              " 'HasMaxIter',\n",
              " 'HasNumFeatures',\n",
              " 'HasOutputCol',\n",
              " 'HasOutputCols',\n",
              " 'HasRelativeError',\n",
              " 'HasSeed',\n",
              " 'HasStepSize',\n",
              " 'HasThreshold',\n",
              " 'HasThresholds',\n",
              " 'HashingTF',\n",
              " 'IDF',\n",
              " 'IDFModel',\n",
              " 'Imputer',\n",
              " 'ImputerModel',\n",
              " 'IndexToString',\n",
              " 'Interaction',\n",
              " 'JM',\n",
              " 'JavaEstimator',\n",
              " 'JavaMLReadable',\n",
              " 'JavaMLWritable',\n",
              " 'JavaModel',\n",
              " 'JavaParams',\n",
              " 'JavaTransformer',\n",
              " 'List',\n",
              " 'MaxAbsScaler',\n",
              " 'MaxAbsScalerModel',\n",
              " 'MinHashLSH',\n",
              " 'MinHashLSHModel',\n",
              " 'MinMaxScaler',\n",
              " 'MinMaxScalerModel',\n",
              " 'NGram',\n",
              " 'Normalizer',\n",
              " 'OneHotEncoder',\n",
              " 'OneHotEncoderModel',\n",
              " 'Optional',\n",
              " 'P',\n",
              " 'PCA',\n",
              " 'PCAModel',\n",
              " 'Param',\n",
              " 'Params',\n",
              " 'PolynomialExpansion',\n",
              " 'QuantileDiscretizer',\n",
              " 'RFormula',\n",
              " 'RFormulaModel',\n",
              " 'RegexTokenizer',\n",
              " 'RobustScaler',\n",
              " 'RobustScalerModel',\n",
              " 'SQLTransformer',\n",
              " 'SparkContext',\n",
              " 'StandardScaler',\n",
              " 'StandardScalerModel',\n",
              " 'StopWordsRemover',\n",
              " 'StringIndexer',\n",
              " 'StringIndexerModel',\n",
              " 'TYPE_CHECKING',\n",
              " 'Tokenizer',\n",
              " 'Tuple',\n",
              " 'TypeConverters',\n",
              " 'TypeVar',\n",
              " 'Union',\n",
              " 'UnivariateFeatureSelector',\n",
              " 'UnivariateFeatureSelectorModel',\n",
              " 'VarianceThresholdSelector',\n",
              " 'VarianceThresholdSelectorModel',\n",
              " 'Vector',\n",
              " 'VectorAssembler',\n",
              " 'VectorIndexer',\n",
              " 'VectorIndexerModel',\n",
              " 'VectorSizeHint',\n",
              " 'VectorSlicer',\n",
              " 'Word2Vec',\n",
              " 'Word2VecModel',\n",
              " '_BucketedRandomProjectionLSHParams',\n",
              " '_CountVectorizerParams',\n",
              " '_IDFParams',\n",
              " '_ImputerParams',\n",
              " '_LSH',\n",
              " '_LSHModel',\n",
              " '_LSHParams',\n",
              " '_MaxAbsScalerParams',\n",
              " '_MinMaxScalerParams',\n",
              " '_OneHotEncoderParams',\n",
              " '_PCAParams',\n",
              " '_RFormulaParams',\n",
              " '_RobustScalerParams',\n",
              " '_Selector',\n",
              " '_SelectorModel',\n",
              " '_SelectorParams',\n",
              " '_StandardScalerParams',\n",
              " '_StringIndexerParams',\n",
              " '_UnivariateFeatureSelectorParams',\n",
              " '_VarianceThresholdSelectorParams',\n",
              " '_VectorIndexerParams',\n",
              " '_Word2VecParams',\n",
              " '__all__',\n",
              " '__builtins__',\n",
              " '__cached__',\n",
              " '__doc__',\n",
              " '__file__',\n",
              " '__loader__',\n",
              " '__name__',\n",
              " '__package__',\n",
              " '__spec__',\n",
              " '_convert_to_vector',\n",
              " '_jvm',\n",
              " 'cast',\n",
              " 'inherit_doc',\n",
              " 'keyword_only',\n",
              " 'overload',\n",
              " 'since']"
            ]
          },
          "metadata": {},
          "execution_count": 19
        }
      ],
      "source": [
        "dir(pyspark.ml.feature)"
      ]
    },
    {
      "cell_type": "code",
      "execution_count": 20,
      "id": "f106afa4",
      "metadata": {
        "id": "f106afa4"
      },
      "outputs": [],
      "source": [
        "from pyspark.ml.feature import Tokenizer,StopWordsRemover,CountVectorizer,IDF\n",
        "from pyspark.ml.feature import StringIndexer"
      ]
    },
    {
      "cell_type": "code",
      "execution_count": 21,
      "id": "057563b3",
      "metadata": {
        "colab": {
          "base_uri": "https://localhost:8080/"
        },
        "id": "057563b3",
        "outputId": "f27813d4-ca43-4e79-d6af-0c102a8e4651"
      },
      "outputs": [
        {
          "output_type": "stream",
          "name": "stdout",
          "text": [
            "+--------------------+----------------+\n",
            "|        course_title|         subject|\n",
            "+--------------------+----------------+\n",
            "|Ultimate Investme...|Business Finance|\n",
            "|Complete GST Cour...|Business Finance|\n",
            "|Financial Modelin...|Business Finance|\n",
            "|Beginner to Pro -...|Business Finance|\n",
            "|How To Maximize Y...|Business Finance|\n",
            "+--------------------+----------------+\n",
            "only showing top 5 rows\n",
            "\n"
          ]
        }
      ],
      "source": [
        "df.show(5)"
      ]
    },
    {
      "cell_type": "code",
      "execution_count": 22,
      "id": "54cfa47f",
      "metadata": {
        "id": "54cfa47f"
      },
      "outputs": [],
      "source": [
        "tokenizer = Tokenizer(inputCol='course_title',outputCol='mytokens')\n",
        "stopwords_remover = StopWordsRemover(inputCol='mytokens',outputCol='filtered_tokens')\n",
        "vectorizer = CountVectorizer(inputCol='filtered_tokens',outputCol='rawFeatures')\n",
        "idf = IDF(inputCol='rawFeatures',outputCol='vectorizedFeatures')"
      ]
    },
    {
      "cell_type": "code",
      "execution_count": 23,
      "id": "0066a7e2",
      "metadata": {
        "id": "0066a7e2"
      },
      "outputs": [],
      "source": [
        "labelEncoder = StringIndexer(inputCol='subject',outputCol='label').fit(df)"
      ]
    },
    {
      "cell_type": "code",
      "execution_count": 24,
      "id": "cfd33c05",
      "metadata": {
        "colab": {
          "base_uri": "https://localhost:8080/"
        },
        "id": "cfd33c05",
        "outputId": "5684253c-685d-4f52-ad86-6dd263ff7361"
      },
      "outputs": [
        {
          "output_type": "stream",
          "name": "stdout",
          "text": [
            "+--------------------+----------------+-----+\n",
            "|        course_title|         subject|label|\n",
            "+--------------------+----------------+-----+\n",
            "|Ultimate Investme...|Business Finance|  1.0|\n",
            "|Complete GST Cour...|Business Finance|  1.0|\n",
            "|Financial Modelin...|Business Finance|  1.0|\n",
            "|Beginner to Pro -...|Business Finance|  1.0|\n",
            "|How To Maximize Y...|Business Finance|  1.0|\n",
            "+--------------------+----------------+-----+\n",
            "only showing top 5 rows\n",
            "\n"
          ]
        }
      ],
      "source": [
        "labelEncoder.transform(df).show(5)"
      ]
    },
    {
      "cell_type": "code",
      "execution_count": 25,
      "id": "20d066be",
      "metadata": {
        "colab": {
          "base_uri": "https://localhost:8080/"
        },
        "id": "20d066be",
        "outputId": "66f27c73-49ac-43a8-e5ee-001b71426274"
      },
      "outputs": [
        {
          "output_type": "execute_result",
          "data": {
            "text/plain": [
              "['Web Development',\n",
              " 'Business Finance',\n",
              " 'Musical Instruments',\n",
              " 'Graphic Design',\n",
              " 'Aprende tocar el Acorden de odo con tcnicahttpswwwudemycomaprendeatocarelacordeondeoidoycontecnicatrue25932134Beginner Level4 hours20140916T195145Z 263432Aprende los Secretos de la Armnica con HARPSOUL',\n",
              " 'Introduction Guitar A Course Beginnershttpswwwudemycomintroductiontoguitartrue251631156Beginner Level25 hours20141030T155939Z 650804Guitar Master Class Learning Play Guitar Z',\n",
              " 'Learn Classical Guitar Technique play Spanish Romancehttpswwwudemycomguitartechniquestrue19513164643All Levels5 hours20131118T175959Z 265888Learn Guitar Worship Learn 4 Songs unlock 1',\n",
              " 'Learn Play Fernando Sors Study B minorhttpswwwudemycomstudyinbminortrue115140359Intermediate Level43 mins20140127T205816Z 398746Piano Chord Based System  Learn Play Pros Do',\n",
              " 'Multiply returns Value Investinghttpswwwudemycommultiplyyourreturnsusingvalueinvestingtrue2019421963All Levels45 hours20150723T000833Z 874284Weekly Forex Analysis Baraq FX',\n",
              " 'play Electric Guitarhttpswwwudemycomelectricguitarbeginnersmethodtrue501105520Beginner Level2 hours20161229T002406Z 42038Learn Piano Today Play Piano Course Quick Lessons']"
            ]
          },
          "metadata": {},
          "execution_count": 25
        }
      ],
      "source": [
        "labelEncoder.labels"
      ]
    },
    {
      "cell_type": "code",
      "execution_count": 26,
      "id": "3ff765cd",
      "metadata": {
        "id": "3ff765cd"
      },
      "outputs": [],
      "source": [
        "label_dict = {'Web Development':0.0,\n",
        " 'Business Finance':1.0,\n",
        " 'Musical Instruments':2.0,\n",
        " 'Graphic Design':3.0}"
      ]
    },
    {
      "cell_type": "code",
      "execution_count": 27,
      "id": "a950ac14",
      "metadata": {
        "colab": {
          "base_uri": "https://localhost:8080/"
        },
        "id": "a950ac14",
        "outputId": "80b6353c-4de7-4514-b34f-4fb041692212"
      },
      "outputs": [
        {
          "output_type": "stream",
          "name": "stdout",
          "text": [
            "+--------------------+----------------+\n",
            "|        course_title|         subject|\n",
            "+--------------------+----------------+\n",
            "|Ultimate Investme...|Business Finance|\n",
            "|Complete GST Cour...|Business Finance|\n",
            "|Financial Modelin...|Business Finance|\n",
            "|Beginner to Pro -...|Business Finance|\n",
            "|How To Maximize Y...|Business Finance|\n",
            "|Trading Penny Sto...|Business Finance|\n",
            "|Investing And Tra...|Business Finance|\n",
            "|Trading Stock Cha...|Business Finance|\n",
            "|Options Trading 3...|Business Finance|\n",
            "|The Only Investme...|Business Finance|\n",
            "|Forex Trading Sec...|Business Finance|\n",
            "|Trading Options W...|Business Finance|\n",
            "|Financial Managem...|Business Finance|\n",
            "|Forex Trading Cou...|Business Finance|\n",
            "|Python Algo Tradi...|Business Finance|\n",
            "|Short Selling: Le...|Business Finance|\n",
            "|Basic Technical A...|Business Finance|\n",
            "|The Complete Char...|Business Finance|\n",
            "|7 Deadly Mistakes...|Business Finance|\n",
            "|Financial Stateme...|Business Finance|\n",
            "+--------------------+----------------+\n",
            "only showing top 20 rows\n",
            "\n"
          ]
        }
      ],
      "source": [
        "df.show()"
      ]
    },
    {
      "cell_type": "code",
      "execution_count": 28,
      "id": "51fc9e94",
      "metadata": {
        "id": "51fc9e94"
      },
      "outputs": [],
      "source": [
        "df = labelEncoder.transform(df)"
      ]
    },
    {
      "cell_type": "code",
      "execution_count": 29,
      "id": "2f96ceb7",
      "metadata": {
        "colab": {
          "base_uri": "https://localhost:8080/"
        },
        "id": "2f96ceb7",
        "outputId": "62841a2b-c57a-4d4e-d4c4-227bd123a27a"
      },
      "outputs": [
        {
          "output_type": "stream",
          "name": "stdout",
          "text": [
            "+--------------------+----------------+-----+\n",
            "|        course_title|         subject|label|\n",
            "+--------------------+----------------+-----+\n",
            "|Ultimate Investme...|Business Finance|  1.0|\n",
            "|Complete GST Cour...|Business Finance|  1.0|\n",
            "|Financial Modelin...|Business Finance|  1.0|\n",
            "|Beginner to Pro -...|Business Finance|  1.0|\n",
            "|How To Maximize Y...|Business Finance|  1.0|\n",
            "+--------------------+----------------+-----+\n",
            "only showing top 5 rows\n",
            "\n"
          ]
        }
      ],
      "source": [
        "df.show(5)"
      ]
    },
    {
      "cell_type": "code",
      "execution_count": 30,
      "id": "56d64e8d",
      "metadata": {
        "id": "56d64e8d"
      },
      "outputs": [],
      "source": [
        "(trainDF,testDF) = df.randomSplit((0.7,0.3),seed=42)"
      ]
    },
    {
      "cell_type": "code",
      "execution_count": 31,
      "id": "e43fcca6",
      "metadata": {
        "colab": {
          "base_uri": "https://localhost:8080/"
        },
        "id": "e43fcca6",
        "outputId": "4025ba44-3c6d-4458-abb8-383001d2d6e7"
      },
      "outputs": [
        {
          "output_type": "stream",
          "name": "stdout",
          "text": [
            "+--------------------+--------------------+-----+\n",
            "|        course_title|             subject|label|\n",
            "+--------------------+--------------------+-----+\n",
            "|#1 Piano Hand Coo...| Musical Instruments|  2.0|\n",
            "|#10 Hand Coordina...| Musical Instruments|  2.0|\n",
            "|#4 Piano Hand Coo...| Musical Instruments|  2.0|\n",
            "|#5  Piano Hand Co...| Musical Instruments|  2.0|\n",
            "|#6 Piano Hand Coo...| Musical Instruments|  2.0|\n",
            "|'Geometry Of Chan...|    Business Finance|  1.0|\n",
            "|              000!\"\"|Learn Classical G...|  6.0|\n",
            "|1 - Concepts of S...|    Business Finance|  1.0|\n",
            "|          1 Hour CSS|     Web Development|  0.0|\n",
            "|1. Principles of ...|    Business Finance|  1.0|\n",
            "|10 Numbers Every ...|    Business Finance|  1.0|\n",
            "|10.  Bonds and Bo...|    Business Finance|  1.0|\n",
            "|101 Blues riffs -...| Musical Instruments|  2.0|\n",
            "|15 Mandamientos p...|    Business Finance|  1.0|\n",
            "|17 Complete JavaS...|     Web Development|  0.0|\n",
            "|188% Profit in 1Y...|    Business Finance|  1.0|\n",
            "|2 Easy Steps To I...|    Business Finance|  1.0|\n",
            "|3 step formula fo...| Musical Instruments|  2.0|\n",
            "|30 Day Guitar Jum...| Musical Instruments|  2.0|\n",
            "|3DS MAX - Learn 3...|      Graphic Design|  3.0|\n",
            "+--------------------+--------------------+-----+\n",
            "only showing top 20 rows\n",
            "\n"
          ]
        }
      ],
      "source": [
        "trainDF.show()"
      ]
    },
    {
      "cell_type": "code",
      "execution_count": 32,
      "id": "a05f4671",
      "metadata": {
        "id": "a05f4671"
      },
      "outputs": [],
      "source": [
        "from pyspark.ml.classification import LogisticRegression"
      ]
    },
    {
      "cell_type": "code",
      "execution_count": 33,
      "id": "6e76e5a2",
      "metadata": {
        "id": "6e76e5a2"
      },
      "outputs": [],
      "source": [
        "lr = LogisticRegression(featuresCol='vectorizedFeatures',labelCol='label')"
      ]
    },
    {
      "cell_type": "code",
      "execution_count": 34,
      "id": "bde76536",
      "metadata": {
        "id": "bde76536"
      },
      "outputs": [],
      "source": [
        "from pyspark.ml import Pipeline"
      ]
    },
    {
      "cell_type": "code",
      "execution_count": 35,
      "id": "69e3432b",
      "metadata": {
        "id": "69e3432b"
      },
      "outputs": [],
      "source": [
        "pipeline = Pipeline(stages=[tokenizer,stopwords_remover,vectorizer,idf,lr])"
      ]
    },
    {
      "cell_type": "code",
      "execution_count": 36,
      "id": "1620d6f0",
      "metadata": {
        "colab": {
          "base_uri": "https://localhost:8080/"
        },
        "id": "1620d6f0",
        "outputId": "afbe7a8b-4299-4110-a154-406b8e9ddc49"
      },
      "outputs": [
        {
          "output_type": "execute_result",
          "data": {
            "text/plain": [
              "Pipeline_ba6f219ff1d6"
            ]
          },
          "metadata": {},
          "execution_count": 36
        }
      ],
      "source": [
        "pipeline"
      ]
    },
    {
      "cell_type": "code",
      "execution_count": 37,
      "id": "a2db2fe5",
      "metadata": {
        "colab": {
          "base_uri": "https://localhost:8080/"
        },
        "id": "a2db2fe5",
        "outputId": "f5b6230d-e18a-4471-cf1b-451c908e7fdf"
      },
      "outputs": [
        {
          "output_type": "execute_result",
          "data": {
            "text/plain": [
              "Param(parent='Pipeline_ba6f219ff1d6', name='stages', doc='a list of pipeline stages')"
            ]
          },
          "metadata": {},
          "execution_count": 37
        }
      ],
      "source": [
        "pipeline.stages"
      ]
    },
    {
      "cell_type": "code",
      "execution_count": 38,
      "id": "97c9e504",
      "metadata": {
        "id": "97c9e504"
      },
      "outputs": [],
      "source": [
        "lr_model = pipeline.fit(trainDF)"
      ]
    },
    {
      "cell_type": "code",
      "execution_count": 39,
      "id": "ae1e0e10",
      "metadata": {
        "colab": {
          "base_uri": "https://localhost:8080/"
        },
        "id": "ae1e0e10",
        "outputId": "bf36e20e-525c-49e6-bf51-da0e7a2077f5"
      },
      "outputs": [
        {
          "output_type": "execute_result",
          "data": {
            "text/plain": [
              "PipelineModel_9031fdf547e8"
            ]
          },
          "metadata": {},
          "execution_count": 39
        }
      ],
      "source": [
        "lr_model"
      ]
    },
    {
      "cell_type": "code",
      "execution_count": 40,
      "id": "9d9a7f3c",
      "metadata": {
        "id": "9d9a7f3c"
      },
      "outputs": [],
      "source": [
        "predictions = lr_model.transform(testDF)"
      ]
    },
    {
      "cell_type": "code",
      "execution_count": 41,
      "id": "9bc4d6cb",
      "metadata": {
        "colab": {
          "base_uri": "https://localhost:8080/"
        },
        "id": "9bc4d6cb",
        "outputId": "8379fb1e-fe91-4de5-c84d-9a63bdceee25"
      },
      "outputs": [
        {
          "output_type": "stream",
          "name": "stdout",
          "text": [
            "+--------------------+-------------------+-----+--------------------+--------------------+--------------------+--------------------+--------------------+--------------------+----------+\n",
            "|        course_title|            subject|label|            mytokens|     filtered_tokens|         rawFeatures|  vectorizedFeatures|       rawPrediction|         probability|prediction|\n",
            "+--------------------+-------------------+-----+--------------------+--------------------+--------------------+--------------------+--------------------+--------------------+----------+\n",
            "|#12 Hand Coordina...|Musical Instruments|  2.0|[#12, hand, coord...|[#12, hand, coord...|(3670,[397,434,60...|(3670,[397,434,60...|[5.54102657075933...|[0.28268355883716...|       2.0|\n",
            "|#7 Piano Hand Coo...|Musical Instruments|  2.0|[#7, piano, hand,...|[#7, piano, hand,...|(3670,[9,13,61,24...|(3670,[9,13,61,24...|[-6.0823322910413...|[1.03215808700201...|       2.0|\n",
            "|'Greensleeves' Cr...|Musical Instruments|  2.0|['greensleeves', ...|['greensleeves', ...|(3670,[6,9,45,376...|(3670,[6,9,45,376...|[-1.0421312508398...|[1.23270089236449...|       2.0|\n",
            "|* An Integrated A...|   Business Finance|  1.0|[*, an, integrate...|[*, integrated, a...|(3670,[23,75,467,...|(3670,[23,75,467,...|[-2.8211817263258...|[4.77760514763108...|       1.0|\n",
            "|         1 Hour HTML|    Web Development|  0.0|     [1, hour, html]|     [1, hour, html]|(3670,[24,37,106]...|(3670,[24,37,106]...|[21.7088196951149...|[0.99999998997280...|       0.0|\n",
            "|   1 Hour JavaScript|    Web Development|  0.0|[1, hour, javascr...|[1, hour, javascr...|(3670,[18,37,106]...|(3670,[18,37,106]...|[20.0054038056691...|[0.99999996031555...|       0.0|\n",
            "|       1 hour jQuery|    Web Development|  0.0|   [1, hour, jquery]|   [1, hour, jquery]|(3670,[37,63,106]...|(3670,[37,63,106]...|[18.0923732218416...|[0.99999972290786...|       0.0|\n",
            "|101 Awesome Rocka...|Musical Instruments|  2.0|[101, awesome, ro...|[101, awesome, ro...|(3670,[7,242,293,...|(3670,[7,242,293,...|[-8.4472424793961...|[4.30624170780055...|       2.0|\n",
            "|15  Motion Graphi...|     Graphic Design|  3.0|[15, , motion, gr...|[15, , motion, gr...|(3670,[36,90,466,...|(3670,[36,90,466,...|[-24.070755043493...|[7.95180496786136...|       3.0|\n",
            "|150 Rock Guitar L...|Musical Instruments|  2.0|[150, rock, guita...|[150, rock, guita...|(3670,[7,145,175,...|(3670,[7,145,175,...|[-6.0537484580850...|[8.42550607102213...|       2.0|\n",
            "|16 Guitar Chords ...|Musical Instruments|  2.0|[16, guitar, chor...|[16, guitar, chor...|(3670,[0,7,133,26...|(3670,[0,7,133,26...|[-6.3817794455595...|[7.02018485735598...|       2.0|\n",
            "|2. Principles of ...|   Business Finance|  1.0|[2., principles, ...|[2., principles, ...|(3670,[0,41,105,3...|(3670,[0,41,105,3...|[0.16718557189804...|[2.62404804858040...|       1.0|\n",
            "|3 Little Pigs: A ...|   Business Finance|  1.0|[3, little, pigs:...|[3, little, pigs:...|(3670,[2,11,61,15...|(3670,[2,11,61,15...|[-7.8293554332991...|[5.14413406452278...|       1.0|\n",
            "|3 documentos clav...|   Business Finance|  1.0|[3, documentos, c...|[3, documentos, c...|(3670,[61,89,169,...|(3670,[61,89,169,...|[4.03455614278691...|[0.00472104045529...|       1.0|\n",
            "|3. Compound Inter...|   Business Finance|  1.0|[3., compound, in...|[3., compound, in...|  (3670,[978],[1.0])|(3670,[978],[6.77...|[1.89940744160969...|[4.28050170202471...|       1.0|\n",
            "|31 Day Guitar Cha...|Musical Instruments|  2.0|[31, day, guitar,...|[31, day, guitar,...|(3670,[7,108,1859...|(3670,[7,108,1859...|[-9.0086539362934...|[1.15163924477584...|       2.0|\n",
            "|3D Programming wi...|    Web Development|  0.0|[3d, programming,...|[3d, programming,...|(3670,[4,85,342],...|(3670,[4,85,342],...|[10.9077562523919...|[0.98967316393201...|       0.0|\n",
            "|4. Ordinary Simpl...|   Business Finance|  1.0|[4., ordinary, si...|[4., ordinary, si...|(3670,[38,105],[1...|(3670,[38,105],[3...|[2.57286792972115...|[3.77644801988912...|       1.0|\n",
            "|5 lecciones que t...|Musical Instruments|  2.0|[5, lecciones, qu...|[5, lecciones, qu...|(3670,[82,3366],[...|(3670,[82,3366],[...|[6.02547956933425...|[0.16529587693088...|       1.0|\n",
            "|6 Must Know Trick...|Musical Instruments|  2.0|[6, must, know, t...|[6, must, know, t...|(3670,[145,261,33...|(3670,[145,261,33...|[13.8525237346231...|[0.99589111985297...|       0.0|\n",
            "+--------------------+-------------------+-----+--------------------+--------------------+--------------------+--------------------+--------------------+--------------------+----------+\n",
            "only showing top 20 rows\n",
            "\n"
          ]
        }
      ],
      "source": [
        "predictions.show()"
      ]
    },
    {
      "cell_type": "code",
      "execution_count": 42,
      "id": "50ecf996",
      "metadata": {
        "colab": {
          "base_uri": "https://localhost:8080/"
        },
        "id": "50ecf996",
        "outputId": "abf0703c-8b3f-42b9-9c5e-af02a4db2ceb"
      },
      "outputs": [
        {
          "output_type": "execute_result",
          "data": {
            "text/plain": [
              "['course_title',\n",
              " 'subject',\n",
              " 'label',\n",
              " 'mytokens',\n",
              " 'filtered_tokens',\n",
              " 'rawFeatures',\n",
              " 'vectorizedFeatures',\n",
              " 'rawPrediction',\n",
              " 'probability',\n",
              " 'prediction']"
            ]
          },
          "metadata": {},
          "execution_count": 42
        }
      ],
      "source": [
        "predictions.columns"
      ]
    },
    {
      "cell_type": "code",
      "execution_count": 43,
      "id": "4d305c93",
      "metadata": {
        "colab": {
          "base_uri": "https://localhost:8080/"
        },
        "id": "4d305c93",
        "outputId": "ef8c53e1-4e4c-4c47-e08e-df479f4abf21"
      },
      "outputs": [
        {
          "output_type": "stream",
          "name": "stdout",
          "text": [
            "+--------------------+--------------------+-------------------+-----+----------+\n",
            "|       rawPrediction|         probability|            subject|label|prediction|\n",
            "+--------------------+--------------------+-------------------+-----+----------+\n",
            "|[5.54102657075933...|[0.28268355883716...|Musical Instruments|  2.0|       2.0|\n",
            "|[-6.0823322910413...|[1.03215808700201...|Musical Instruments|  2.0|       2.0|\n",
            "|[-1.0421312508398...|[1.23270089236449...|Musical Instruments|  2.0|       2.0|\n",
            "|[-2.8211817263258...|[4.77760514763108...|   Business Finance|  1.0|       1.0|\n",
            "|[21.7088196951149...|[0.99999998997280...|    Web Development|  0.0|       0.0|\n",
            "|[20.0054038056691...|[0.99999996031555...|    Web Development|  0.0|       0.0|\n",
            "|[18.0923732218416...|[0.99999972290786...|    Web Development|  0.0|       0.0|\n",
            "|[-8.4472424793961...|[4.30624170780055...|Musical Instruments|  2.0|       2.0|\n",
            "|[-24.070755043493...|[7.95180496786136...|     Graphic Design|  3.0|       3.0|\n",
            "|[-6.0537484580850...|[8.42550607102213...|Musical Instruments|  2.0|       2.0|\n",
            "+--------------------+--------------------+-------------------+-----+----------+\n",
            "only showing top 10 rows\n",
            "\n"
          ]
        }
      ],
      "source": [
        "predictions.select('rawPrediction','probability','subject','label','prediction').show(10)"
      ]
    },
    {
      "cell_type": "code",
      "execution_count": 44,
      "id": "6befa53e",
      "metadata": {
        "id": "6befa53e"
      },
      "outputs": [],
      "source": [
        "from pyspark.ml.evaluation import MulticlassClassificationEvaluator"
      ]
    },
    {
      "cell_type": "code",
      "execution_count": 45,
      "id": "dbf9d674",
      "metadata": {
        "id": "dbf9d674"
      },
      "outputs": [],
      "source": [
        "evaluator = MulticlassClassificationEvaluator(labelCol='label',predictionCol='prediction',metricName='accuracy')"
      ]
    },
    {
      "cell_type": "code",
      "execution_count": 46,
      "id": "0a1682c7",
      "metadata": {
        "id": "0a1682c7"
      },
      "outputs": [],
      "source": [
        "accuracy = evaluator.evaluate(predictions)"
      ]
    },
    {
      "cell_type": "code",
      "execution_count": 47,
      "id": "01100739",
      "metadata": {
        "colab": {
          "base_uri": "https://localhost:8080/"
        },
        "id": "01100739",
        "outputId": "efbda0bf-f7a2-4a9a-dd6c-6a775e03367a"
      },
      "outputs": [
        {
          "output_type": "execute_result",
          "data": {
            "text/plain": [
              "0.9173003802281369"
            ]
          },
          "metadata": {},
          "execution_count": 47
        }
      ],
      "source": [
        "accuracy"
      ]
    },
    {
      "cell_type": "code",
      "execution_count": 48,
      "id": "953b393e",
      "metadata": {
        "id": "953b393e"
      },
      "outputs": [],
      "source": [
        "from pyspark.mllib.evaluation import MulticlassMetrics"
      ]
    },
    {
      "cell_type": "code",
      "execution_count": 49,
      "id": "763bb693",
      "metadata": {
        "colab": {
          "base_uri": "https://localhost:8080/"
        },
        "id": "763bb693",
        "outputId": "aca34fe2-724e-469f-eb30-dc11f0e2e771"
      },
      "outputs": [
        {
          "output_type": "stream",
          "name": "stderr",
          "text": [
            "/usr/local/lib/python3.10/dist-packages/pyspark/sql/context.py:158: FutureWarning: Deprecated in 3.0.0. Use SparkSession.builder.getOrCreate() instead.\n",
            "  warnings.warn(\n"
          ]
        }
      ],
      "source": [
        "lr_metric = MulticlassMetrics(predictions['label','prediction'].rdd)"
      ]
    },
    {
      "cell_type": "code",
      "execution_count": 50,
      "id": "259e90c5",
      "metadata": {
        "colab": {
          "base_uri": "https://localhost:8080/"
        },
        "id": "259e90c5",
        "outputId": "f1a41108-426d-4ae0-c160-ef65d500e064"
      },
      "outputs": [
        {
          "output_type": "stream",
          "name": "stdout",
          "text": [
            "Accuracy: 0.9173003802281369\n",
            "Precision: 0.9188632744143248\n",
            "F1 Score: 0.9156356281233602\n"
          ]
        }
      ],
      "source": [
        "from pyspark.ml.evaluation import MulticlassClassificationEvaluator\n",
        "\n",
        "\n",
        "evaluator = MulticlassClassificationEvaluator(labelCol=\"label\", predictionCol=\"prediction\", metricName=\"accuracy\")\n",
        "accuracy = evaluator.evaluate(predictions)\n",
        "\n",
        "precision_evaluator = MulticlassClassificationEvaluator(labelCol=\"label\", predictionCol=\"prediction\", metricName=\"weightedPrecision\")\n",
        "precision = precision_evaluator.evaluate(predictions)\n",
        "\n",
        "f1score_evaluator = MulticlassClassificationEvaluator(labelCol=\"label\", predictionCol=\"prediction\", metricName=\"f1\")\n",
        "f1score = f1score_evaluator.evaluate(predictions)\n",
        "\n",
        "\n",
        "print(f\"Accuracy: {accuracy}\")\n",
        "print(f\"Precision: {precision}\")\n",
        "print(f\"F1 Score: {f1score}\")\n"
      ]
    },
    {
      "cell_type": "code",
      "execution_count": 51,
      "id": "ae20b27c",
      "metadata": {
        "id": "ae20b27c"
      },
      "outputs": [],
      "source": [
        "y_true = predictions.select('label')\n",
        "y_true = y_true.toPandas()\n",
        "y_pred = predictions.select('prediction')\n",
        "y_pred = y_pred.toPandas()"
      ]
    },
    {
      "cell_type": "code",
      "execution_count": 52,
      "id": "14ab44df",
      "metadata": {
        "id": "14ab44df"
      },
      "outputs": [],
      "source": [
        "from sklearn.metrics import confusion_matrix,classification_report"
      ]
    },
    {
      "cell_type": "code",
      "execution_count": 53,
      "id": "b6f26ed8",
      "metadata": {
        "id": "b6f26ed8"
      },
      "outputs": [],
      "source": [
        "cm = confusion_matrix(y_true,y_pred)"
      ]
    },
    {
      "cell_type": "code",
      "execution_count": 54,
      "id": "c7dae30c",
      "metadata": {
        "colab": {
          "base_uri": "https://localhost:8080/"
        },
        "id": "c7dae30c",
        "outputId": "d618d03c-dcf8-4c96-dca9-66d14c7ae784"
      },
      "outputs": [
        {
          "output_type": "execute_result",
          "data": {
            "text/plain": [
              "array([[321,  10,   1,   4,   0,   0],\n",
              "       [  9, 340,   1,   1,   0,   0],\n",
              "       [  6,  15, 156,   1,   0,   0],\n",
              "       [  8,  23,   6, 148,   0,   0],\n",
              "       [  0,   1,   0,   0,   0,   0],\n",
              "       [  0,   1,   0,   0,   0,   0]])"
            ]
          },
          "metadata": {},
          "execution_count": 54
        }
      ],
      "source": [
        "cm"
      ]
    },
    {
      "cell_type": "code",
      "execution_count": 55,
      "id": "701e9b9c",
      "metadata": {
        "colab": {
          "base_uri": "https://localhost:8080/",
          "height": 628
        },
        "id": "701e9b9c",
        "outputId": "ea3823e2-463a-4346-97d3-66e03199eae4"
      },
      "outputs": [
        {
          "output_type": "stream",
          "name": "stdout",
          "text": [
            "Normalized confusion matrix\n",
            "[[0.95535714 0.0297619  0.00297619 0.01190476 0.         0.        ]\n",
            " [0.02564103 0.96866097 0.002849   0.002849   0.         0.        ]\n",
            " [0.03370787 0.08426966 0.87640449 0.00561798 0.         0.        ]\n",
            " [0.04324324 0.12432432 0.03243243 0.8        0.         0.        ]\n",
            " [0.         1.         0.         0.         0.         0.        ]\n",
            " [0.         1.         0.         0.         0.         0.        ]]\n"
          ]
        },
        {
          "output_type": "display_data",
          "data": {
            "text/plain": [
              "<Figure size 640x480 with 2 Axes>"
            ],
            "image/png": "[encoded data removed]"
          },
          "metadata": {}
        }
      ],
      "source": [
        "import matplotlib.pyplot as plt\n",
        "import numpy as np\n",
        "import itertools\n",
        "from sklearn.metrics import confusion_matrix\n",
        "\n",
        "def plot_confusion_matrix(y_true, y_pred, classes,\n",
        "                          normalize=False,\n",
        "                          title='Confusion matrix',\n",
        "                          cmap=plt.cm.Blues):\n",
        "    \"\"\"\n",
        "    This function prints and plots the confusion matrix.\n",
        "    Normalization can be applied by setting `normalize=True`.\n",
        "    \"\"\"\n",
        "    cm = confusion_matrix(y_true, y_pred)\n",
        "\n",
        "    if normalize:\n",
        "        cm = cm.astype('float') / cm.sum(axis=1)[:, np.newaxis]\n",
        "        print(\"Normalized confusion matrix\")\n",
        "    else:\n",
        "        print('Confusion matrix, without normalization')\n",
        "\n",
        "    print(cm)\n",
        "\n",
        "    plt.imshow(cm, interpolation='nearest', cmap=cmap)\n",
        "    plt.title(title)\n",
        "    plt.colorbar()\n",
        "    tick_marks = np.arange(len(classes))\n",
        "    plt.xticks(tick_marks, classes, rotation=45)\n",
        "    plt.yticks(tick_marks, classes)\n",
        "\n",
        "    fmt = '.2f' if normalize else 'd'\n",
        "    thresh = cm.max() / 2.\n",
        "    for i, j in itertools.product(range(cm.shape[0]), range(cm.shape[1])):\n",
        "        plt.text(j, i, format(cm[i, j], fmt),\n",
        "                 horizontalalignment=\"center\",\n",
        "                 color=\"white\" if cm[i, j] > thresh else \"black\")\n",
        "\n",
        "    plt.tight_layout()\n",
        "    plt.ylabel('True label')\n",
        "    plt.xlabel('Predicted label')\n",
        "    plt.show()\n",
        "\n",
        "# Exemple d'utilisation :\n",
        "# Remplacez y_true et y_pred par vos étiquettes réelles et prédictions\n",
        "# Remplacez classes par une liste de noms de classes\n",
        "label_dict = {'Web Development': 0, 'Business Finance': 1, 'Musical Instruments': 2, 'Graphic Design': 3, 'N4': 4, 'N5': 5}\n",
        "class_names = list(label_dict.keys())\n",
        "\n",
        "# Remplacez cm par votre matrice de confusion\n",
        "cm = np.array([[321, 10, 1, 4, 0, 0],\n",
        "               [9, 340, 1, 1, 0, 0],\n",
        "               [6, 15, 156, 1, 0, 0],\n",
        "               [8, 23, 6, 148, 0, 0],\n",
        "               [0, 1, 0, 0, 0, 0],\n",
        "               [0, 1, 0, 0, 0, 0]])\n",
        "\n",
        "plot_confusion_matrix(y_true, y_pred, class_names, normalize=True)\n"
      ]
    },
    {
      "cell_type": "code",
      "execution_count": 56,
      "id": "a4c060de",
      "metadata": {
        "id": "a4c060de"
      },
      "outputs": [],
      "source": [
        "import warnings\n",
        "warnings.filterwarnings('ignore')"
      ]
    },
    {
      "cell_type": "code",
      "execution_count": 57,
      "id": "8bfe4392",
      "metadata": {
        "colab": {
          "base_uri": "https://localhost:8080/"
        },
        "id": "8bfe4392",
        "outputId": "c3171f64-e254-44aa-83cc-dc445767c637"
      },
      "outputs": [
        {
          "output_type": "stream",
          "name": "stdout",
          "text": [
            "              precision    recall  f1-score   support\n",
            "\n",
            "         0.0       0.93      0.96      0.94       336\n",
            "         1.0       0.87      0.97      0.92       351\n",
            "         2.0       0.95      0.88      0.91       178\n",
            "         3.0       0.96      0.80      0.87       185\n",
            "         5.0       0.00      0.00      0.00         1\n",
            "         8.0       0.00      0.00      0.00         1\n",
            "\n",
            "    accuracy                           0.92      1052\n",
            "   macro avg       0.62      0.60      0.61      1052\n",
            "weighted avg       0.92      0.92      0.92      1052\n",
            "\n"
          ]
        }
      ],
      "source": [
        "print(classification_report(y_true,y_pred))"
      ]
    },
    {
      "cell_type": "code",
      "execution_count": 58,
      "id": "8c373c4e",
      "metadata": {
        "colab": {
          "base_uri": "https://localhost:8080/"
        },
        "id": "8c373c4e",
        "outputId": "70c5dba5-d655-43ef-8be5-bd032c5d674c"
      },
      "outputs": [
        {
          "output_type": "stream",
          "name": "stdout",
          "text": [
            "                     precision    recall  f1-score   support\n",
            "\n",
            "    Web Development       0.93      0.96      0.94       336\n",
            "   Business Finance       0.87      0.97      0.92       351\n",
            "Musical Instruments       0.95      0.88      0.91       178\n",
            "     Graphic Design       0.96      0.80      0.87       185\n",
            "                 N4       0.00      0.00      0.00         1\n",
            "                 N5       0.00      0.00      0.00         1\n",
            "\n",
            "           accuracy                           0.92      1052\n",
            "          macro avg       0.62      0.60      0.61      1052\n",
            "       weighted avg       0.92      0.92      0.92      1052\n",
            "\n"
          ]
        }
      ],
      "source": [
        "print(classification_report(y_true,y_pred,target_names=class_names))"
      ]
    },
    {
      "cell_type": "code",
      "execution_count": 59,
      "id": "10e129be",
      "metadata": {
        "colab": {
          "base_uri": "https://localhost:8080/"
        },
        "id": "10e129be",
        "outputId": "1cdda4ea-fff8-4b64-eb17-de5639c56e15"
      },
      "outputs": [
        {
          "output_type": "execute_result",
          "data": {
            "text/plain": [
              "<map at 0x78c3b5662ce0>"
            ]
          },
          "metadata": {},
          "execution_count": 59
        }
      ],
      "source": [
        "class_temp = predictions.select(\"label\").groupBy(\"label\")\\\n",
        "                        .count().sort('count', ascending=False).toPandas()\n",
        "class_temp = class_temp[\"label\"].values.tolist()\n",
        "class_names = map(str, class_temp)\n",
        "# # # print(class_name)\n",
        "class_names"
      ]
    },
    {
      "cell_type": "code",
      "execution_count": 60,
      "id": "588f71f6",
      "metadata": {
        "id": "588f71f6"
      },
      "outputs": [],
      "source": [
        "from pyspark.sql.types import StringType"
      ]
    },
    {
      "cell_type": "code",
      "execution_count": 61,
      "id": "12c17092",
      "metadata": {
        "id": "12c17092"
      },
      "outputs": [],
      "source": [
        "ex1 = spark.createDataFrame([\n",
        "    (\"Building Machine Learning Apps with Python and PySpark\",StringType())\n",
        "],\n",
        "# Column Name\n",
        "[\"course_title\"]\n",
        "\n",
        ")"
      ]
    },
    {
      "cell_type": "code",
      "execution_count": 62,
      "id": "d6228f6d",
      "metadata": {
        "colab": {
          "base_uri": "https://localhost:8080/"
        },
        "id": "d6228f6d",
        "outputId": "4449eac3-9c84-4d06-9363-e8803017a14f"
      },
      "outputs": [
        {
          "output_type": "stream",
          "name": "stdout",
          "text": [
            "+--------------------+---+\n",
            "|        course_title| _2|\n",
            "+--------------------+---+\n",
            "|Building Machine ...| {}|\n",
            "+--------------------+---+\n",
            "\n"
          ]
        }
      ],
      "source": [
        "ex1.show()"
      ]
    },
    {
      "cell_type": "code",
      "execution_count": 63,
      "id": "46d5aa18",
      "metadata": {
        "colab": {
          "base_uri": "https://localhost:8080/"
        },
        "id": "46d5aa18",
        "outputId": "b26fd29f-61e4-4971-80ab-1eac1a15c7d1"
      },
      "outputs": [
        {
          "output_type": "stream",
          "name": "stdout",
          "text": [
            "+------------------------------------------------------+---+\n",
            "|course_title                                          |_2 |\n",
            "+------------------------------------------------------+---+\n",
            "|Building Machine Learning Apps with Python and PySpark|{} |\n",
            "+------------------------------------------------------+---+\n",
            "\n"
          ]
        }
      ],
      "source": [
        "ex1.show(truncate=False)"
      ]
    },
    {
      "cell_type": "code",
      "execution_count": 64,
      "id": "ac48c6fb",
      "metadata": {
        "colab": {
          "base_uri": "https://localhost:8080/"
        },
        "id": "ac48c6fb",
        "outputId": "eeb686cb-97a3-4494-9493-5fd5ddd1c913"
      },
      "outputs": [
        {
          "output_type": "stream",
          "name": "stdout",
          "text": [
            "+--------------------+\n",
            "|        course_title|\n",
            "+--------------------+\n",
            "|Building Machine ...|\n",
            "+--------------------+\n",
            "\n"
          ]
        }
      ],
      "source": [
        "from pyspark.sql import SparkSession\n",
        "from pyspark.sql.types import StringType\n",
        "\n",
        "# Assuming you already have a SparkSession named 'spark'\n",
        "ex1 = spark.createDataFrame([\n",
        "    (\"Building Machine Learning Apps with Python and PySpark\",)\n",
        "], [\"course_title\"])\n",
        "\n",
        "ex1.show()"
      ]
    },
    {
      "cell_type": "code",
      "execution_count": 65,
      "id": "afbb4ff2",
      "metadata": {
        "id": "afbb4ff2",
        "colab": {
          "base_uri": "https://localhost:8080/"
        },
        "outputId": "d9726e54-a843-4560-f668-e37e8a333580"
      },
      "outputs": [
        {
          "output_type": "stream",
          "name": "stdout",
          "text": [
            "+------------------------------------------------------+\n",
            "|course_title                                          |\n",
            "+------------------------------------------------------+\n",
            "|Building Machine Learning Apps with Python and PySpark|\n",
            "+------------------------------------------------------+\n",
            "\n"
          ]
        }
      ],
      "source": [
        "# Show Full\n",
        "ex1.show(truncate=False)"
      ]
    },
    {
      "cell_type": "code",
      "execution_count": 66,
      "id": "cff40a20",
      "metadata": {
        "id": "cff40a20"
      },
      "outputs": [],
      "source": [
        "# Predict\n",
        "pred_ex1 = lr_model.transform(ex1)"
      ]
    },
    {
      "cell_type": "code",
      "source": [
        "pred_ex1.show()"
      ],
      "metadata": {
        "colab": {
          "base_uri": "https://localhost:8080/"
        },
        "id": "70_5kJM92swq",
        "outputId": "f5e6f3b3-af21-4f12-e23d-60d915cc89dc"
      },
      "id": "70_5kJM92swq",
      "execution_count": 67,
      "outputs": [
        {
          "output_type": "stream",
          "name": "stdout",
          "text": [
            "+--------------------+--------------------+--------------------+--------------------+--------------------+--------------------+--------------------+----------+\n",
            "|        course_title|            mytokens|     filtered_tokens|         rawFeatures|  vectorizedFeatures|       rawPrediction|         probability|prediction|\n",
            "+--------------------+--------------------+--------------------+--------------------+--------------------+--------------------+--------------------+----------+\n",
            "|Building Machine ...|[building, machin...|[building, machin...|(3670,[56,80,113,...|(3670,[56,80,113,...|[14.1592174201726...|[0.99999485486236...|       0.0|\n",
            "+--------------------+--------------------+--------------------+--------------------+--------------------+--------------------+--------------------+----------+\n",
            "\n"
          ]
        }
      ]
    },
    {
      "cell_type": "code",
      "source": [
        "pred_ex1.columns"
      ],
      "metadata": {
        "colab": {
          "base_uri": "https://localhost:8080/"
        },
        "id": "aw1LslQf25YU",
        "outputId": "30918056-deb4-411b-effd-3fc1ba8e6c84"
      },
      "id": "aw1LslQf25YU",
      "execution_count": 68,
      "outputs": [
        {
          "output_type": "execute_result",
          "data": {
            "text/plain": [
              "['course_title',\n",
              " 'mytokens',\n",
              " 'filtered_tokens',\n",
              " 'rawFeatures',\n",
              " 'vectorizedFeatures',\n",
              " 'rawPrediction',\n",
              " 'probability',\n",
              " 'prediction']"
            ]
          },
          "metadata": {},
          "execution_count": 68
        }
      ]
    },
    {
      "cell_type": "code",
      "source": [
        "pred_ex1.select('course_title','rawPrediction','probability','prediction').show()"
      ],
      "metadata": {
        "colab": {
          "base_uri": "https://localhost:8080/"
        },
        "id": "b3dNTvRp28x0",
        "outputId": "c8cae805-a6bc-4352-b328-08b7107d7bd9"
      },
      "id": "b3dNTvRp28x0",
      "execution_count": 69,
      "outputs": [
        {
          "output_type": "stream",
          "name": "stdout",
          "text": [
            "+--------------------+--------------------+--------------------+----------+\n",
            "|        course_title|       rawPrediction|         probability|prediction|\n",
            "+--------------------+--------------------+--------------------+----------+\n",
            "|Building Machine ...|[14.1592174201726...|[0.99999485486236...|       0.0|\n",
            "+--------------------+--------------------+--------------------+----------+\n",
            "\n"
          ]
        }
      ]
    },
    {
      "cell_type": "code",
      "source": [
        "label_dict"
      ],
      "metadata": {
        "colab": {
          "base_uri": "https://localhost:8080/"
        },
        "id": "KKi73uZY3AcI",
        "outputId": "04a1af45-1a76-43a1-95e5-a2ee6c0402c2"
      },
      "id": "KKi73uZY3AcI",
      "execution_count": 70,
      "outputs": [
        {
          "output_type": "execute_result",
          "data": {
            "text/plain": [
              "{'Web Development': 0,\n",
              " 'Business Finance': 1,\n",
              " 'Musical Instruments': 2,\n",
              " 'Graphic Design': 3,\n",
              " 'N4': 4,\n",
              " 'N5': 5}"
            ]
          },
          "metadata": {},
          "execution_count": 70
        }
      ]
    },
    {
      "cell_type": "code",
      "source": [
        "# Saving Model\n",
        "modelPath = \"models/pyspark_lr_model_26_Feb_2021\"\n",
        "lr_model.save(modelPath)"
      ],
      "metadata": {
        "id": "thVYbqJH3DjW"
      },
      "id": "thVYbqJH3DjW",
      "execution_count": 71,
      "outputs": []
    },
    {
      "cell_type": "code",
      "source": [
        "# Loading pickled model via pipeline api\n",
        "from pyspark.ml.pipeline import PipelineModel\n",
        "persistedModel = PipelineModel.load(modelPath)"
      ],
      "metadata": {
        "id": "wO_dROYO3GI6"
      },
      "id": "wO_dROYO3GI6",
      "execution_count": 72,
      "outputs": []
    }
  ],
  "metadata": {
    "kernelspec": {
      "display_name": "Python 3 (ipykernel)",
      "language": "python",
      "name": "python3"
    },
    "language_info": {
      "codemirror_mode": {
        "name": "ipython",
        "version": 3
      },
      "file_extension": ".py",
      "mimetype": "text/x-python",
      "name": "python",
      "nbconvert_exporter": "python",
      "pygments_lexer": "ipython3",
      "version": "3.11.5"
    },
    "colab": {
      "provenance": []
    }
  },
  "nbformat": 4,
  "nbformat_minor": 5
}